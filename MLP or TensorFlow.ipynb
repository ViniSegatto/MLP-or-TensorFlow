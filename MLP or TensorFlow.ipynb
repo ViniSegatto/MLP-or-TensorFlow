{
 "cells": [
  {
   "cell_type": "markdown",
   "id": "f8683790",
   "metadata": {},
   "source": [
    "# MLP classifier"
   ]
  },
  {
   "cell_type": "code",
   "execution_count": 1,
   "id": "819d2005",
   "metadata": {},
   "outputs": [],
   "source": [
    "import numpy as np\n",
    "import pandas as pd\n",
    "from sklearn.neural_network import MLPClassifier\n",
    "from sklearn.metrics import accuracy_score"
   ]
  },
  {
   "cell_type": "code",
   "execution_count": 2,
   "id": "b51a5880",
   "metadata": {},
   "outputs": [],
   "source": [
    "# Carregando o conjunto de dados de treinamento do arquivo CSV\n",
    "train_df = pd.read_csv('C:/Users/vinic/Downloads/Introdução à Inteligência Artificial - Aula 4 - Base de Dados Atividade/iris-train.data', \n",
    "                      names=['sepal_length', 'sepal_width', 'petal_length', 'petal_width', 'class'])\n"
   ]
  },
  {
   "cell_type": "code",
   "execution_count": 3,
   "id": "851234ae",
   "metadata": {},
   "outputs": [],
   "source": [
    "# Extraindo os recursos de entrada e a variável de destino do conjunto de dados de treinamento\n",
    "X_train = train_df.iloc[:, :-1].values\n",
    "y_train = train_df.iloc[:, -1].values\n"
   ]
  },
  {
   "cell_type": "code",
   "execution_count": 4,
   "id": "23dbc2a3",
   "metadata": {},
   "outputs": [],
   "source": [
    "# Carregando e testando o Dataset do arquivo CSV\n",
    "test_df = pd.read_csv('C:/Users/vinic/Downloads/Introdução à Inteligência Artificial - Aula 4 - Base de Dados Atividade/iris-test.data', \n",
    "                      names=['sepal_length', 'sepal_width', 'petal_length', 'petal_width', 'class'])"
   ]
  },
  {
   "cell_type": "code",
   "execution_count": 5,
   "id": "aa750424",
   "metadata": {},
   "outputs": [],
   "source": [
    "# Extraindo os recursos de entrada e a variável de destino do conjunto de dados de teste\n",
    "X_test = test_df.iloc[:, :-1].values\n",
    "y_test = test_df.iloc[:, -1].values\n"
   ]
  },
  {
   "cell_type": "code",
   "execution_count": 6,
   "id": "4160138f",
   "metadata": {},
   "outputs": [],
   "source": [
    "# Criando um classificador MLP com duas camadas ocultas de 10 neurônios cada\n",
    "clf = MLPClassifier(hidden_layer_sizes=(10, 10), max_iter=1000, random_state=42)\n"
   ]
  },
  {
   "cell_type": "code",
   "execution_count": 7,
   "id": "2fd21c8e",
   "metadata": {},
   "outputs": [
    {
     "data": {
      "text/plain": [
       "MLPClassifier(hidden_layer_sizes=(10, 10), max_iter=1000, random_state=42)"
      ]
     },
     "execution_count": 7,
     "metadata": {},
     "output_type": "execute_result"
    }
   ],
   "source": [
    "# Treinando o classificador MLP usando backpropagation\n",
    "clf.fit(X_train, y_train)\n"
   ]
  },
  {
   "cell_type": "code",
   "execution_count": 8,
   "id": "a86ebb75",
   "metadata": {},
   "outputs": [],
   "source": [
    "# Prevendo as espécies de flores de íris no conjunto de teste\n",
    "y_pred = clf.predict(X_test)\n"
   ]
  },
  {
   "cell_type": "code",
   "execution_count": 9,
   "id": "9328e628",
   "metadata": {},
   "outputs": [
    {
     "name": "stdout",
     "output_type": "stream",
     "text": [
      "Accuracy: 1.00\n"
     ]
    }
   ],
   "source": [
    "# Calcular a precisão do classificador MLP\n",
    "accuracy = accuracy_score(y_test, y_pred)\n",
    "print(f\"Accuracy: {accuracy:.2f}\")\n"
   ]
  },
  {
   "cell_type": "markdown",
   "id": "df82d36c",
   "metadata": {},
   "source": [
    "##  TensorFlow"
   ]
  },
  {
   "cell_type": "code",
   "execution_count": 10,
   "id": "498bb41a",
   "metadata": {},
   "outputs": [],
   "source": [
    "import tensorflow as tf\n",
    "import pandas as pd\n",
    "from sklearn.datasets import load_iris\n",
    "from sklearn.model_selection import train_test_split\n",
    "from sklearn.preprocessing import OneHotEncoder, StandardScaler"
   ]
  },
  {
   "cell_type": "code",
   "execution_count": 11,
   "id": "b9ee159d",
   "metadata": {},
   "outputs": [],
   "source": [
    "# Carregando o conjunto de dados de treinamento do arquivo CSV\n",
    "train_df = pd.read_csv('C:/Users/vinic/Downloads/Introdução à Inteligência Artificial - Aula 4 - Base de Dados Atividade/iris-train.data', \n",
    "                       names=['sepal_length', 'sepal_width', 'petal_length', 'petal_width', 'class'])\n",
    "test_df = pd.read_csv('C:/Users/vinic/Downloads/Introdução à Inteligência Artificial - Aula 4 - Base de Dados Atividade/iris-test.data',\n",
    "                      names=['sepal_length', 'sepal_width', 'petal_length', 'petal_width', 'class'])"
   ]
  },
  {
   "cell_type": "code",
   "execution_count": 12,
   "id": "7e30513b",
   "metadata": {},
   "outputs": [],
   "source": [
    "# Divida o conjunto de dados em conjuntos de treinamento e teste\n",
    "X_train = train_df.drop('class', axis=1)\n",
    "y_train = train_df['class']\n",
    "X_test = test_df.drop('class', axis=1)\n",
    "y_test = test_df['class']"
   ]
  },
  {
   "cell_type": "code",
   "execution_count": 13,
   "id": "24834df5",
   "metadata": {},
   "outputs": [],
   "source": [
    "# Processamento\n",
    "scaler = StandardScaler()\n",
    "X_train = scaler.fit_transform(X_train)\n",
    "X_test = scaler.transform(X_test)"
   ]
  },
  {
   "cell_type": "code",
   "execution_count": 14,
   "id": "e8076b33",
   "metadata": {},
   "outputs": [],
   "source": [
    "# One-hot encode\n",
    "enc = OneHotEncoder()\n",
    "y_train = enc.fit_transform(y_train.values.reshape(-1, 1)).toarray()\n",
    "y_test = enc.transform(y_test.values.reshape(-1, 1)).toarray()"
   ]
  },
  {
   "cell_type": "code",
   "execution_count": 15,
   "id": "17f0b329",
   "metadata": {},
   "outputs": [],
   "source": [
    "# Definindo a arquitetura do modelo\n",
    "model = tf.keras.Sequential([\n",
    "    tf.keras.layers.Dense(10, activation='relu', input_dim=4),\n",
    "    tf.keras.layers.Dense(3, activation='softmax')\n",
    "])"
   ]
  },
  {
   "cell_type": "code",
   "execution_count": 16,
   "id": "139e88e6",
   "metadata": {},
   "outputs": [],
   "source": [
    "# Compilando o modelo\n",
    "model.compile(optimizer='adam', loss='categorical_crossentropy', metrics=['accuracy'])"
   ]
  },
  {
   "cell_type": "code",
   "execution_count": 17,
   "id": "4cc498fb",
   "metadata": {},
   "outputs": [
    {
     "name": "stdout",
     "output_type": "stream",
     "text": [
      "Epoch 1/100\n",
      "4/4 [==============================] - 0s 54ms/step - loss: 1.4848 - accuracy: 0.0833 - val_loss: 1.4082 - val_accuracy: 0.1000\n",
      "Epoch 2/100\n",
      "4/4 [==============================] - 0s 3ms/step - loss: 1.4503 - accuracy: 0.0917 - val_loss: 1.3787 - val_accuracy: 0.1000\n",
      "Epoch 3/100\n",
      "4/4 [==============================] - 0s 9ms/step - loss: 1.4192 - accuracy: 0.0917 - val_loss: 1.3494 - val_accuracy: 0.1333\n",
      "Epoch 4/100\n",
      "4/4 [==============================] - 0s 4ms/step - loss: 1.3881 - accuracy: 0.1167 - val_loss: 1.3208 - val_accuracy: 0.1667\n",
      "Epoch 5/100\n",
      "4/4 [==============================] - 0s 8ms/step - loss: 1.3578 - accuracy: 0.1583 - val_loss: 1.2930 - val_accuracy: 0.2000\n",
      "Epoch 6/100\n",
      "4/4 [==============================] - 0s 4ms/step - loss: 1.3281 - accuracy: 0.1667 - val_loss: 1.2660 - val_accuracy: 0.2333\n",
      "Epoch 7/100\n",
      "4/4 [==============================] - 0s 5ms/step - loss: 1.3012 - accuracy: 0.1833 - val_loss: 1.2399 - val_accuracy: 0.3000\n",
      "Epoch 8/100\n",
      "4/4 [==============================] - 0s 5ms/step - loss: 1.2723 - accuracy: 0.2250 - val_loss: 1.2148 - val_accuracy: 0.3000\n",
      "Epoch 9/100\n",
      "4/4 [==============================] - 0s 8ms/step - loss: 1.2457 - accuracy: 0.2500 - val_loss: 1.1903 - val_accuracy: 0.3000\n",
      "Epoch 10/100\n",
      "4/4 [==============================] - 0s 4ms/step - loss: 1.2205 - accuracy: 0.2750 - val_loss: 1.1664 - val_accuracy: 0.3000\n",
      "Epoch 11/100\n",
      "4/4 [==============================] - 0s 6ms/step - loss: 1.1950 - accuracy: 0.3167 - val_loss: 1.1430 - val_accuracy: 0.3000\n",
      "Epoch 12/100\n",
      "4/4 [==============================] - 0s 4ms/step - loss: 1.1706 - accuracy: 0.3250 - val_loss: 1.1204 - val_accuracy: 0.4000\n",
      "Epoch 13/100\n",
      "4/4 [==============================] - 0s 6ms/step - loss: 1.1463 - accuracy: 0.3417 - val_loss: 1.0989 - val_accuracy: 0.5000\n",
      "Epoch 14/100\n",
      "4/4 [==============================] - 0s 7ms/step - loss: 1.1242 - accuracy: 0.3667 - val_loss: 1.0776 - val_accuracy: 0.5000\n",
      "Epoch 15/100\n",
      "4/4 [==============================] - 0s 5ms/step - loss: 1.1017 - accuracy: 0.3750 - val_loss: 1.0570 - val_accuracy: 0.5000\n",
      "Epoch 16/100\n",
      "4/4 [==============================] - 0s 7ms/step - loss: 1.0803 - accuracy: 0.3917 - val_loss: 1.0369 - val_accuracy: 0.5333\n",
      "Epoch 17/100\n",
      "4/4 [==============================] - 0s 5ms/step - loss: 1.0600 - accuracy: 0.3917 - val_loss: 1.0172 - val_accuracy: 0.5667\n",
      "Epoch 18/100\n",
      "4/4 [==============================] - 0s 8ms/step - loss: 1.0393 - accuracy: 0.4333 - val_loss: 0.9985 - val_accuracy: 0.5667\n",
      "Epoch 19/100\n",
      "4/4 [==============================] - 0s 7ms/step - loss: 1.0198 - accuracy: 0.4750 - val_loss: 0.9807 - val_accuracy: 0.5667\n",
      "Epoch 20/100\n",
      "4/4 [==============================] - 0s 5ms/step - loss: 1.0009 - accuracy: 0.4833 - val_loss: 0.9634 - val_accuracy: 0.5667\n",
      "Epoch 21/100\n",
      "4/4 [==============================] - 0s 5ms/step - loss: 0.9833 - accuracy: 0.5083 - val_loss: 0.9461 - val_accuracy: 0.6333\n",
      "Epoch 22/100\n",
      "4/4 [==============================] - 0s 5ms/step - loss: 0.9648 - accuracy: 0.5417 - val_loss: 0.9297 - val_accuracy: 0.6333\n",
      "Epoch 23/100\n",
      "4/4 [==============================] - 0s 4ms/step - loss: 0.9474 - accuracy: 0.5917 - val_loss: 0.9138 - val_accuracy: 0.6333\n",
      "Epoch 24/100\n",
      "4/4 [==============================] - 0s 5ms/step - loss: 0.9307 - accuracy: 0.6167 - val_loss: 0.8981 - val_accuracy: 0.6667\n",
      "Epoch 25/100\n",
      "4/4 [==============================] - 0s 6ms/step - loss: 0.9146 - accuracy: 0.6167 - val_loss: 0.8829 - val_accuracy: 0.6667\n",
      "Epoch 26/100\n",
      "4/4 [==============================] - 0s 7ms/step - loss: 0.8985 - accuracy: 0.6333 - val_loss: 0.8681 - val_accuracy: 0.7000\n",
      "Epoch 27/100\n",
      "4/4 [==============================] - 0s 4ms/step - loss: 0.8831 - accuracy: 0.6333 - val_loss: 0.8536 - val_accuracy: 0.7000\n",
      "Epoch 28/100\n",
      "4/4 [==============================] - 0s 8ms/step - loss: 0.8681 - accuracy: 0.6500 - val_loss: 0.8395 - val_accuracy: 0.7667\n",
      "Epoch 29/100\n",
      "4/4 [==============================] - 0s 5ms/step - loss: 0.8534 - accuracy: 0.6667 - val_loss: 0.8258 - val_accuracy: 0.7667\n",
      "Epoch 30/100\n",
      "4/4 [==============================] - 0s 5ms/step - loss: 0.8389 - accuracy: 0.6833 - val_loss: 0.8127 - val_accuracy: 0.8000\n",
      "Epoch 31/100\n",
      "4/4 [==============================] - 0s 9ms/step - loss: 0.8247 - accuracy: 0.7250 - val_loss: 0.8000 - val_accuracy: 0.9000\n",
      "Epoch 32/100\n",
      "4/4 [==============================] - 0s 7ms/step - loss: 0.8116 - accuracy: 0.7250 - val_loss: 0.7873 - val_accuracy: 0.9000\n",
      "Epoch 33/100\n",
      "4/4 [==============================] - 0s 7ms/step - loss: 0.7985 - accuracy: 0.7583 - val_loss: 0.7746 - val_accuracy: 0.9000\n",
      "Epoch 34/100\n",
      "4/4 [==============================] - 0s 8ms/step - loss: 0.7857 - accuracy: 0.7583 - val_loss: 0.7623 - val_accuracy: 0.9000\n",
      "Epoch 35/100\n",
      "4/4 [==============================] - 0s 8ms/step - loss: 0.7733 - accuracy: 0.7750 - val_loss: 0.7502 - val_accuracy: 0.9000\n",
      "Epoch 36/100\n",
      "4/4 [==============================] - 0s 7ms/step - loss: 0.7614 - accuracy: 0.7833 - val_loss: 0.7382 - val_accuracy: 0.9000\n",
      "Epoch 37/100\n",
      "4/4 [==============================] - 0s 9ms/step - loss: 0.7494 - accuracy: 0.7917 - val_loss: 0.7268 - val_accuracy: 0.9000\n",
      "Epoch 38/100\n",
      "4/4 [==============================] - 0s 8ms/step - loss: 0.7379 - accuracy: 0.8000 - val_loss: 0.7156 - val_accuracy: 0.9000\n",
      "Epoch 39/100\n",
      "4/4 [==============================] - 0s 7ms/step - loss: 0.7266 - accuracy: 0.8000 - val_loss: 0.7047 - val_accuracy: 0.9000\n",
      "Epoch 40/100\n",
      "4/4 [==============================] - 0s 8ms/step - loss: 0.7156 - accuracy: 0.8083 - val_loss: 0.6941 - val_accuracy: 0.9000\n",
      "Epoch 41/100\n",
      "4/4 [==============================] - 0s 8ms/step - loss: 0.7051 - accuracy: 0.8083 - val_loss: 0.6838 - val_accuracy: 0.9000\n",
      "Epoch 42/100\n",
      "4/4 [==============================] - 0s 9ms/step - loss: 0.6952 - accuracy: 0.8083 - val_loss: 0.6734 - val_accuracy: 0.9000\n",
      "Epoch 43/100\n",
      "4/4 [==============================] - 0s 9ms/step - loss: 0.6847 - accuracy: 0.8083 - val_loss: 0.6635 - val_accuracy: 0.9000\n",
      "Epoch 44/100\n",
      "4/4 [==============================] - 0s 9ms/step - loss: 0.6752 - accuracy: 0.8083 - val_loss: 0.6536 - val_accuracy: 0.9000\n",
      "Epoch 45/100\n",
      "4/4 [==============================] - 0s 9ms/step - loss: 0.6655 - accuracy: 0.8083 - val_loss: 0.6439 - val_accuracy: 0.9000\n",
      "Epoch 46/100\n",
      "4/4 [==============================] - 0s 6ms/step - loss: 0.6563 - accuracy: 0.8167 - val_loss: 0.6343 - val_accuracy: 0.9000\n",
      "Epoch 47/100\n",
      "4/4 [==============================] - 0s 8ms/step - loss: 0.6472 - accuracy: 0.8167 - val_loss: 0.6251 - val_accuracy: 0.9000\n",
      "Epoch 48/100\n",
      "4/4 [==============================] - 0s 9ms/step - loss: 0.6383 - accuracy: 0.8167 - val_loss: 0.6162 - val_accuracy: 0.9000\n",
      "Epoch 49/100\n",
      "4/4 [==============================] - 0s 8ms/step - loss: 0.6297 - accuracy: 0.8167 - val_loss: 0.6075 - val_accuracy: 0.9000\n",
      "Epoch 50/100\n",
      "4/4 [==============================] - 0s 10ms/step - loss: 0.6212 - accuracy: 0.8167 - val_loss: 0.5991 - val_accuracy: 0.9000\n",
      "Epoch 51/100\n",
      "4/4 [==============================] - 0s 8ms/step - loss: 0.6132 - accuracy: 0.8167 - val_loss: 0.5909 - val_accuracy: 0.9000\n",
      "Epoch 52/100\n",
      "4/4 [==============================] - 0s 8ms/step - loss: 0.6051 - accuracy: 0.8167 - val_loss: 0.5828 - val_accuracy: 0.9000\n",
      "Epoch 53/100\n",
      "4/4 [==============================] - 0s 10ms/step - loss: 0.5971 - accuracy: 0.8167 - val_loss: 0.5749 - val_accuracy: 0.9000\n",
      "Epoch 54/100\n",
      "4/4 [==============================] - 0s 5ms/step - loss: 0.5896 - accuracy: 0.8167 - val_loss: 0.5671 - val_accuracy: 0.9000\n",
      "Epoch 55/100\n",
      "4/4 [==============================] - 0s 6ms/step - loss: 0.5822 - accuracy: 0.8167 - val_loss: 0.5594 - val_accuracy: 0.9000\n",
      "Epoch 56/100\n",
      "4/4 [==============================] - 0s 9ms/step - loss: 0.5748 - accuracy: 0.8167 - val_loss: 0.5520 - val_accuracy: 0.9000\n",
      "Epoch 57/100\n",
      "4/4 [==============================] - 0s 8ms/step - loss: 0.5676 - accuracy: 0.8250 - val_loss: 0.5447 - val_accuracy: 0.9000\n",
      "Epoch 58/100\n",
      "4/4 [==============================] - 0s 7ms/step - loss: 0.5605 - accuracy: 0.8250 - val_loss: 0.5377 - val_accuracy: 0.9000\n",
      "Epoch 59/100\n",
      "4/4 [==============================] - 0s 7ms/step - loss: 0.5538 - accuracy: 0.8250 - val_loss: 0.5309 - val_accuracy: 0.9000\n",
      "Epoch 60/100\n",
      "4/4 [==============================] - 0s 8ms/step - loss: 0.5470 - accuracy: 0.8250 - val_loss: 0.5243 - val_accuracy: 0.9000\n",
      "Epoch 61/100\n",
      "4/4 [==============================] - 0s 8ms/step - loss: 0.5405 - accuracy: 0.8250 - val_loss: 0.5178 - val_accuracy: 0.9000\n",
      "Epoch 62/100\n",
      "4/4 [==============================] - 0s 6ms/step - loss: 0.5341 - accuracy: 0.8250 - val_loss: 0.5114 - val_accuracy: 0.9000\n",
      "Epoch 63/100\n",
      "4/4 [==============================] - 0s 8ms/step - loss: 0.5280 - accuracy: 0.8250 - val_loss: 0.5052 - val_accuracy: 0.9000\n",
      "Epoch 64/100\n",
      "4/4 [==============================] - 0s 9ms/step - loss: 0.5219 - accuracy: 0.8250 - val_loss: 0.4992 - val_accuracy: 0.9333\n",
      "Epoch 65/100\n",
      "4/4 [==============================] - 0s 7ms/step - loss: 0.5158 - accuracy: 0.8250 - val_loss: 0.4933 - val_accuracy: 0.9333\n",
      "Epoch 66/100\n",
      "4/4 [==============================] - 0s 8ms/step - loss: 0.5102 - accuracy: 0.8250 - val_loss: 0.4874 - val_accuracy: 0.9333\n",
      "Epoch 67/100\n",
      "4/4 [==============================] - 0s 6ms/step - loss: 0.5044 - accuracy: 0.8250 - val_loss: 0.4817 - val_accuracy: 0.9333\n",
      "Epoch 68/100\n",
      "4/4 [==============================] - 0s 9ms/step - loss: 0.4988 - accuracy: 0.8250 - val_loss: 0.4762 - val_accuracy: 0.9333\n",
      "Epoch 69/100\n",
      "4/4 [==============================] - 0s 8ms/step - loss: 0.4934 - accuracy: 0.8250 - val_loss: 0.4705 - val_accuracy: 0.9333\n",
      "Epoch 70/100\n",
      "4/4 [==============================] - 0s 12ms/step - loss: 0.4879 - accuracy: 0.8333 - val_loss: 0.4651 - val_accuracy: 0.9333\n",
      "Epoch 71/100\n",
      "4/4 [==============================] - 0s 8ms/step - loss: 0.4828 - accuracy: 0.8333 - val_loss: 0.4597 - val_accuracy: 0.9333\n",
      "Epoch 72/100\n",
      "4/4 [==============================] - 0s 6ms/step - loss: 0.4777 - accuracy: 0.8333 - val_loss: 0.4545 - val_accuracy: 0.9333\n",
      "Epoch 73/100\n",
      "4/4 [==============================] - 0s 8ms/step - loss: 0.4726 - accuracy: 0.8333 - val_loss: 0.4493 - val_accuracy: 0.9333\n",
      "Epoch 74/100\n",
      "4/4 [==============================] - 0s 9ms/step - loss: 0.4679 - accuracy: 0.8333 - val_loss: 0.4443 - val_accuracy: 0.9333\n",
      "Epoch 75/100\n",
      "4/4 [==============================] - 0s 7ms/step - loss: 0.4630 - accuracy: 0.8333 - val_loss: 0.4395 - val_accuracy: 0.9333\n",
      "Epoch 76/100\n",
      "4/4 [==============================] - 0s 9ms/step - loss: 0.4586 - accuracy: 0.8333 - val_loss: 0.4346 - val_accuracy: 0.9333\n",
      "Epoch 77/100\n",
      "4/4 [==============================] - 0s 8ms/step - loss: 0.4540 - accuracy: 0.8333 - val_loss: 0.4300 - val_accuracy: 0.9333\n",
      "Epoch 78/100\n",
      "4/4 [==============================] - 0s 8ms/step - loss: 0.4498 - accuracy: 0.8333 - val_loss: 0.4255 - val_accuracy: 0.9333\n",
      "Epoch 79/100\n",
      "4/4 [==============================] - 0s 9ms/step - loss: 0.4458 - accuracy: 0.8333 - val_loss: 0.4212 - val_accuracy: 0.9333\n",
      "Epoch 80/100\n",
      "4/4 [==============================] - 0s 6ms/step - loss: 0.4413 - accuracy: 0.8333 - val_loss: 0.4169 - val_accuracy: 0.9333\n",
      "Epoch 81/100\n",
      "4/4 [==============================] - 0s 6ms/step - loss: 0.4376 - accuracy: 0.8333 - val_loss: 0.4127 - val_accuracy: 0.9333\n",
      "Epoch 82/100\n",
      "4/4 [==============================] - 0s 7ms/step - loss: 0.4335 - accuracy: 0.8333 - val_loss: 0.4084 - val_accuracy: 0.9333\n",
      "Epoch 83/100\n",
      "4/4 [==============================] - 0s 9ms/step - loss: 0.4296 - accuracy: 0.8333 - val_loss: 0.4043 - val_accuracy: 0.9333\n",
      "Epoch 84/100\n",
      "4/4 [==============================] - 0s 8ms/step - loss: 0.4259 - accuracy: 0.8333 - val_loss: 0.4003 - val_accuracy: 0.9333\n",
      "Epoch 85/100\n",
      "4/4 [==============================] - 0s 9ms/step - loss: 0.4223 - accuracy: 0.8417 - val_loss: 0.3963 - val_accuracy: 0.9333\n",
      "Epoch 86/100\n",
      "4/4 [==============================] - 0s 6ms/step - loss: 0.4187 - accuracy: 0.8417 - val_loss: 0.3925 - val_accuracy: 0.9333\n",
      "Epoch 87/100\n",
      "4/4 [==============================] - 0s 5ms/step - loss: 0.4151 - accuracy: 0.8417 - val_loss: 0.3888 - val_accuracy: 0.9333\n",
      "Epoch 88/100\n",
      "4/4 [==============================] - 0s 6ms/step - loss: 0.4118 - accuracy: 0.8417 - val_loss: 0.3852 - val_accuracy: 0.9333\n",
      "Epoch 89/100\n",
      "4/4 [==============================] - 0s 8ms/step - loss: 0.4083 - accuracy: 0.8500 - val_loss: 0.3816 - val_accuracy: 0.9333\n",
      "Epoch 90/100\n",
      "4/4 [==============================] - 0s 4ms/step - loss: 0.4050 - accuracy: 0.8500 - val_loss: 0.3780 - val_accuracy: 0.9333\n",
      "Epoch 91/100\n",
      "4/4 [==============================] - 0s 6ms/step - loss: 0.4018 - accuracy: 0.8500 - val_loss: 0.3745 - val_accuracy: 0.9333\n",
      "Epoch 92/100\n",
      "4/4 [==============================] - 0s 6ms/step - loss: 0.3986 - accuracy: 0.8500 - val_loss: 0.3712 - val_accuracy: 0.9333\n",
      "Epoch 93/100\n",
      "4/4 [==============================] - 0s 6ms/step - loss: 0.3954 - accuracy: 0.8583 - val_loss: 0.3679 - val_accuracy: 0.9333\n",
      "Epoch 94/100\n",
      "4/4 [==============================] - 0s 6ms/step - loss: 0.3925 - accuracy: 0.8500 - val_loss: 0.3647 - val_accuracy: 0.9333\n",
      "Epoch 95/100\n",
      "4/4 [==============================] - 0s 6ms/step - loss: 0.3894 - accuracy: 0.8500 - val_loss: 0.3615 - val_accuracy: 0.9333\n",
      "Epoch 96/100\n",
      "4/4 [==============================] - 0s 7ms/step - loss: 0.3864 - accuracy: 0.8667 - val_loss: 0.3584 - val_accuracy: 0.9333\n",
      "Epoch 97/100\n",
      "4/4 [==============================] - 0s 8ms/step - loss: 0.3833 - accuracy: 0.8667 - val_loss: 0.3554 - val_accuracy: 0.9333\n",
      "Epoch 98/100\n",
      "4/4 [==============================] - 0s 6ms/step - loss: 0.3806 - accuracy: 0.8667 - val_loss: 0.3524 - val_accuracy: 0.9333\n",
      "Epoch 99/100\n",
      "4/4 [==============================] - 0s 6ms/step - loss: 0.3777 - accuracy: 0.8667 - val_loss: 0.3495 - val_accuracy: 0.9333\n",
      "Epoch 100/100\n",
      "4/4 [==============================] - 0s 8ms/step - loss: 0.3748 - accuracy: 0.8667 - val_loss: 0.3465 - val_accuracy: 0.9333\n"
     ]
    },
    {
     "data": {
      "text/plain": [
       "<tensorflow.python.keras.callbacks.History at 0x1e6923edd08>"
      ]
     },
     "execution_count": 17,
     "metadata": {},
     "output_type": "execute_result"
    }
   ],
   "source": [
    "# Treinando o modelo \n",
    "model.fit(X_train, y_train, epochs=100, batch_size=32, validation_data=(X_test, y_test))"
   ]
  },
  {
   "cell_type": "code",
   "execution_count": 18,
   "id": "72a01a47",
   "metadata": {},
   "outputs": [
    {
     "name": "stdout",
     "output_type": "stream",
     "text": [
      "1/1 [==============================] - 0s 0s/step - loss: 0.3465 - accuracy: 0.9333\n",
      "Test loss: 0.3465, Test accuracy: 0.9333\n"
     ]
    }
   ],
   "source": [
    "# Avaliando o modelo no conjunto de teste\n",
    "loss, accuracy = model.evaluate(X_test, y_test)\n",
    "print(f\"Test loss: {loss:.4f}, Test accuracy: {accuracy:.4f}\")"
   ]
  },
  {
   "cell_type": "markdown",
   "id": "ac5d9f4a",
   "metadata": {},
   "source": [
    "## Comparando"
   ]
  },
  {
   "cell_type": "markdown",
   "id": "3df9f112",
   "metadata": {},
   "source": [
    "As duas implementações usam técnicas semelhantes para resolver o mesmo problema, mas com algumas diferenças nas etapas de pré-processamento e modelagem.\n",
    "\n",
    "Na primeira implementação, pré-processamos manualmente os dados dimensionando os recursos e codificando a variável de destino. Em seguida, criamos um modelo de rede neural do zero usando NumPy e o treinamos usando retropropagação com uma taxa de aprendizado fixa.\n",
    "\n",
    "Na segunda implementação, usamos as classes StandardScaler e OneHotEncoder do Scikit-learn para pré-processar os dados. Criamos um modelo de rede neural usando a classe Sequential do TensorFlow e adicionamos camadas a ele usando a classe Dense. Usamos o otimizador Adam para treinar o modelo e avaliá-lo no conjunto de teste usando o método de avaliação.\n",
    "\n",
    "Os parâmetros usados nas duas implementações são semelhantes, mas não exatamente iguais. Por exemplo, na primeira implementação, usamos uma taxa de aprendizado de 0,1, enquanto na segunda implementação usamos a taxa de aprendizado padrão do otimizador Adam. Da mesma forma, na primeira implementação, usamos uma camada oculta com 10 neurônios, enquanto na segunda implementação usamos duas camadas ocultas com 10 neurônios cada.\n",
    "\n",
    "Pode haver uma diferença de desempenho entre as duas implementações, dependendo do tamanho e complexidade do conjunto de dados e da arquitetura do modelo. Em geral, as bibliotecas de ML, como Scikit-learn e TensorFlow, são projetadas para serem altamente otimizadas e eficientes, de modo que muitas vezes podem ter um desempenho melhor do que as implementações manuais.\n",
    "\n",
    "A implementação de uma solução sem uma biblioteca de ML pode ajudar a entender como funciona uma função de biblioteca de ML e os conceitos subjacentes do aprendizado de máquina. Também pode ajudar a desenvolver uma melhor intuição sobre os hiperparâmetros e seu impacto no desempenho do modelo. No entanto, usar uma biblioteca de ML pode economizar muito tempo e esforço na implementação e teste de diferentes modelos e, muitas vezes, pode levar a melhores resultados com menos esforço."
   ]
  }
 ],
 "metadata": {
  "kernelspec": {
   "display_name": "Python 3 (ipykernel)",
   "language": "python",
   "name": "python3"
  },
  "language_info": {
   "codemirror_mode": {
    "name": "ipython",
    "version": 3
   },
   "file_extension": ".py",
   "mimetype": "text/x-python",
   "name": "python",
   "nbconvert_exporter": "python",
   "pygments_lexer": "ipython3",
   "version": "3.7.11"
  }
 },
 "nbformat": 4,
 "nbformat_minor": 5
}
